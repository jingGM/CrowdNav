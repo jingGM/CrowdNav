{
 "cells": [
  {
   "cell_type": "code",
   "execution_count": 2,
   "metadata": {},
   "outputs": [
    {
     "data": {
      "text/plain": [
       "('asd %d', 1)"
      ]
     },
     "execution_count": 2,
     "metadata": {},
     "output_type": "execute_result"
    }
   ],
   "source": [
    "i =1\n",
    "a = 'asd %d',i\n",
    "a"
   ]
  },
  {
   "cell_type": "code",
   "execution_count": 2,
   "metadata": {},
   "outputs": [],
   "source": [
    "import numpy as np\n",
    "from gym import spaces"
   ]
  },
  {
   "cell_type": "code",
   "execution_count": 3,
   "metadata": {},
   "outputs": [],
   "source": [
    "scan_space = spaces.Box(low=0., high=4., shape=(512, ))\n",
    "image_space = spaces.Box(low=0., high=4., shape=(640,480,3))"
   ]
  },
  {
   "cell_type": "code",
   "execution_count": 5,
   "metadata": {},
   "outputs": [
    {
     "name": "stdout",
     "output_type": "stream",
     "text": [
      "Box(640, 480, 3)\n",
      "Box(512,)\n"
     ]
    }
   ],
   "source": [
    "print(image_space)\n",
    "print(scan_space)"
   ]
  },
  {
   "cell_type": "code",
   "execution_count": 6,
   "metadata": {},
   "outputs": [],
   "source": [
    "class RunningStat(object):\n",
    "    def __init__(self, shape):\n",
    "        self._size = 0\n",
    "        self._mean, self._std = np.zeros(shape), np.zeros(shape)\n",
    "\n",
    "    def add(self, x):\n",
    "        x = np.asarray(x)\n",
    "        assert x.shape == self._mean.shape\n",
    "\n",
    "        self._size += 1\n",
    "        if self._size == 1:\n",
    "            self._mean = x\n",
    "        else:\n",
    "            self._mean_old = self._mean.copy()\n",
    "            self._mean = self._mean_old + (x - self._mean_old) / self._size\n",
    "            self._std = self._std + (x - self._mean_old) * (x - self._mean)\n",
    "\n",
    "    @property\n",
    "    def size(self):\n",
    "        return self._size\n",
    "\n",
    "    @property\n",
    "    def mean(self):\n",
    "        return self._mean\n",
    "\n",
    "    @property\n",
    "    def var(self):\n",
    "        return self._std / (self._size - 1) if self._size > 1 else self._std\n",
    "\n",
    "    @property\n",
    "    def std(self):\n",
    "        return np.sqrt(self.var)\n",
    "\n",
    "    @property\n",
    "    def shape(self):\n",
    "        return self._mean.shape"
   ]
  },
  {
   "cell_type": "code",
   "execution_count": 9,
   "metadata": {},
   "outputs": [
    {
     "name": "stdout",
     "output_type": "stream",
     "text": [
      "512\n",
      "(640, 480, 3)\n",
      "<__main__.RunningStat object at 0x7fa8a8784f90>\n",
      "<__main__.RunningStat object at 0x7fa8a8784fd0>\n"
     ]
    }
   ],
   "source": [
    "rs_scan = RunningStat(scan_space.shape[0])\n",
    "rs_cam = RunningStat(image_space.shape)\n",
    "print(scan_space.shape[0])\n",
    "print(image_space.shape)\n",
    "print(rs_scan)\n",
    "print(rs_cam)"
   ]
  },
  {
   "cell_type": "code",
   "execution_count": null,
   "metadata": {},
   "outputs": [],
   "source": [
    "np.ones()"
   ]
  },
  {
   "cell_type": "code",
   "execution_count": 18,
   "metadata": {},
   "outputs": [
    {
     "name": "stdout",
     "output_type": "stream",
     "text": [
      "[[1 1 0]\n",
      " [2 2 1]]\n",
      "(2, 3)\n",
      "(2, 2, 3)\n"
     ]
    }
   ],
   "source": [
    "import numpy as np\n",
    "\n",
    "pixel = 640*480*3\n",
    "scan = np.stack(([1]*512,[0]*512,[2]*512),axis=1)\n",
    "\n",
    "x = [[[[1,2,3]]*480]*640]*5\n",
    "\n",
    "x=np.array([[1,2,1],[3,4,1]])\n",
    "\n",
    "y=np.array([[0,1,1],[1,2,0]])\n",
    "print(x-y)\n",
    "print(x.shape)\n",
    "k=np.stack((x,y),axis=1)\n",
    "print(k.shape)\n"
   ]
  },
  {
   "cell_type": "code",
   "execution_count": 8,
   "metadata": {},
   "outputs": [],
   "source": [
    "import sysv_ipc\n",
    "import copy\n",
    "import math\n",
    "import random\n",
    "import StringIO\n",
    "import struct\n",
    "import time\n",
    "import csv\n",
    "\n",
    "key=42\n",
    "semaphore = sysv_ipc.Semaphore(key, 0)\n",
    "memory = sysv_ipc.SharedMemory(key, 0)\n",
    "received_data_size = 0"
   ]
  },
  {
   "cell_type": "code",
   "execution_count": 9,
   "metadata": {},
   "outputs": [
    {
     "ename": "KeyboardInterrupt",
     "evalue": "",
     "output_type": "error",
     "traceback": [
      "\u001b[0;31m\u001b[0m",
      "\u001b[0;31mKeyboardInterrupt\u001b[0mTraceback (most recent call last)",
      "\u001b[0;31mKeyboardInterrupt\u001b[0m: "
     ]
    }
   ],
   "source": [
    "semaphore.acquire()\n",
    "size = memory.read(byte_count=4)\n",
    "length, = struct.unpack(\"i\", size)"
   ]
  },
  {
   "cell_type": "code",
   "execution_count": null,
   "metadata": {},
   "outputs": [],
   "source": [
    "scan = tf.placeholder(tf.float32, [None, self.obs_shape[1], self.obs_shape[0]],'scan_ph')\n",
    "goal = tf.placeholder(tf.float32, [None, 2], 'goal_ph')\n",
    "vel = tf.placeholder(tf.float32, [None, 2], 'vel_ph')\n",
    "\n",
    "net = tl.layers.InputLayer(scan, name='scan_input')\n",
    "net = tl.layers.MeanPool1d(net, filter_size=3, strides=2, name='min_pooling1')\n",
    "net = tl.layers.MeanPool1d(net, filter_size=3, strides=2, name='min_pooling2')\n",
    "net = tl.layers.MeanPool1d(net, filter_size=3, strides=2, name='min_pooling3')\n",
    "\n",
    "net = tl.layers.Conv1dLayer(net, act=tf.nn.relu, shape=[5, self.obs_shape[0], 8], stride=2,name='cnn1')\n",
    "net = tl.layers.Conv1dLayer(net, act=tf.nn.relu, shape=[3, 8, 16], stride=2,name='cnn2')\n",
    "net = tl.layers.FlattenLayer(net, name='fl')\n",
    "net = tl.layers.DenseLayer(net, n_units=128, act=tf.nn.relu, name='cnn_output')\n",
    "cnn_output = net.outputs\n",
    "\n",
    "act_net = tl.layers.InputLayer(tf.concat([goal, vel, cnn_output], axis=1), name='goal_input')\n",
    "act_net = tl.layers.DenseLayer(act_net, n_units=64, act=tf.nn.tanh, name='act1')\n",
    "act_net = tl.layers.DenseLayer(act_net, n_units=64, act=tf.nn.tanh, name='act2')\n",
    "linear = tl.layers.DenseLayer(act_net, n_units=1, act=tf.nn.sigmoid, name='linear')\n",
    "angular = tl.layers.DenseLayer(act_net, n_units=1, act=tf.nn.tanh, name='angular')"
   ]
  }
 ],
 "metadata": {
  "kernelspec": {
   "display_name": "Python 2",
   "language": "python",
   "name": "python2"
  },
  "language_info": {
   "codemirror_mode": {
    "name": "ipython",
    "version": 2
   },
   "file_extension": ".py",
   "mimetype": "text/x-python",
   "name": "python",
   "nbconvert_exporter": "python",
   "pygments_lexer": "ipython2",
   "version": "2.7.16"
  }
 },
 "nbformat": 4,
 "nbformat_minor": 2
}
