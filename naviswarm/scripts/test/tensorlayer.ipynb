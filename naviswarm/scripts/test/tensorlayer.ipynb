{
 "cells": [
  {
   "cell_type": "code",
   "execution_count": 1,
   "metadata": {},
   "outputs": [
    {
     "name": "stderr",
     "output_type": "stream",
     "text": [
      "/home/jing/anaconda2/lib/python2.7/site-packages/dask/config.py:168: YAMLLoadWarning: calling yaml.load() without Loader=... is deprecated, as the default Loader is unsafe. Please read https://msg.pyyaml.org/load for full details.\n",
      "  data = yaml.load(f.read()) or {}\n"
     ]
    }
   ],
   "source": [
    "import tensorflow as tf\n",
    "import tensorlayer as tl"
   ]
  },
  {
   "cell_type": "code",
   "execution_count": 2,
   "metadata": {},
   "outputs": [],
   "source": [
    "graph = tf.get_default_graph()\n",
    "config = tf.ConfigProto()\n",
    "session = tf.Session(graph=graph, config=config)"
   ]
  },
  {
   "cell_type": "code",
   "execution_count": null,
   "metadata": {},
   "outputs": [],
   "source": [
    "scan = tf.placeholder(\n",
    "            tf.float32, [None, self.obs_shape[1], self.obs_shape[0]],\n",
    "            'scan_ph')\n",
    "        goal = tf.placeholder(tf.float32, [None, 2], 'goal_ph')\n",
    "        vel = tf.placeholder(tf.float32, [None, 2], 'vel_ph')\n",
    "\n",
    "        net = tl.layers.InputLayer(scan, name='scan_input')\n",
    "        net = tl.layers.MeanPool1d(net, filter_size=3, strides=2, name='min_pooling1')\n",
    "        net = tl.layers.MeanPool1d(net, filter_size=3, strides=2, name='min_pooling2')\n",
    "        net = tl.layers.MeanPool1d(net, filter_size=3, strides=2, name='min_pooling3')\n",
    "\n",
    "        net = tl.layers.Conv1dLayer(\n",
    "            net, act=tf.nn.relu, shape=[5, self.obs_shape[0], 8], stride=2,\n",
    "            name='cnn1')\n",
    "        net = tl.layers.Conv1dLayer(\n",
    "            net, act=tf.nn.relu, shape=[3, 8, 16], stride=2,\n",
    "            name='cnn2')\n",
    "        net = tl.layers.FlattenLayer(net, name='fl')\n",
    "        net = tl.layers.DenseLayer(\n",
    "            net, n_units=128, act=tf.nn.relu, name='cnn_output')\n",
    "        cnn_output = net.outputs\n",
    "\n",
    "        act_net = tl.layers.InputLayer(\n",
    "            tf.concat([goal, vel, cnn_output], axis=1), name='goal_input')\n",
    "        act_net = tl.layers.DenseLayer(\n",
    "            act_net, n_units=64, act=tf.nn.tanh, name='act1')\n",
    "        act_net = tl.layers.DenseLayer(\n",
    "            act_net, n_units=64, act=tf.nn.tanh, name='act2')\n",
    "        linear = tl.layers.DenseLayer(\n",
    "            act_net, n_units=1, act=tf.nn.sigmoid, name='linear')\n",
    "        angular = tl.layers.DenseLayer(\n",
    "            act_net, n_units=1, act=tf.nn.tanh, name='angular')\n",
    "        with tf.variable_scope('means'):\n",
    "            action_mean = tf.concat([linear.outputs, angular.outputs], axis=1)"
   ]
  }
 ],
 "metadata": {
  "kernelspec": {
   "display_name": "Python 2",
   "language": "python",
   "name": "python2"
  },
  "language_info": {
   "codemirror_mode": {
    "name": "ipython",
    "version": 2
   },
   "file_extension": ".py",
   "mimetype": "text/x-python",
   "name": "python",
   "nbconvert_exporter": "python",
   "pygments_lexer": "ipython2",
   "version": "2.7.16"
  }
 },
 "nbformat": 4,
 "nbformat_minor": 2
}
