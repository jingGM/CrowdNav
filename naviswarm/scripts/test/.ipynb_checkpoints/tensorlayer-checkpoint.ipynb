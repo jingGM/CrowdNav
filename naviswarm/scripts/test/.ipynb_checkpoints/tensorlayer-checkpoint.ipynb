{
 "cells": [
  {
   "cell_type": "code",
   "execution_count": 1,
   "metadata": {},
   "outputs": [
    {
     "name": "stderr",
     "output_type": "stream",
     "text": [
      "/home/jing/anaconda2/lib/python2.7/site-packages/dask/config.py:168: YAMLLoadWarning: calling yaml.load() without Loader=... is deprecated, as the default Loader is unsafe. Please read https://msg.pyyaml.org/load for full details.\n",
      "  data = yaml.load(f.read()) or {}\n"
     ]
    }
   ],
   "source": [
    "import tensorflow as tf\n",
    "import tensorlayer as tl"
   ]
  },
  {
   "cell_type": "code",
   "execution_count": 2,
   "metadata": {},
   "outputs": [],
   "source": [
    "graph = tf.get_default_graph()\n",
    "config = tf.ConfigProto()\n",
    "session = tf.Session(graph=graph, config=config)"
   ]
  },
  {
   "cell_type": "code",
   "execution_count": 3,
   "metadata": {
    "scrolled": false
   },
   "outputs": [
    {
     "name": "stdout",
     "output_type": "stream",
     "text": [
      "[TL] InputLayer  image_input: (1, 640, 480, 15)\n",
      "[TL] Conv2dLayer cnn1: shape: (7, 7, 15, 64) strides: (1, 2, 2, 1) pad: SAME act: relu\n",
      "WARNING:tensorflow:From /home/jing/anaconda2/lib/python2.7/site-packages/tensorflow/python/framework/op_def_library.py:263: colocate_with (from tensorflow.python.framework.ops) is deprecated and will be removed in a future version.\n",
      "Instructions for updating:\n",
      "Colocations handled automatically by placer.\n",
      "[TL] Conv2dLayer cnn2: shape: (5, 5, 64, 128) strides: (1, 2, 2, 1) pad: SAME act: relu\n",
      "(1, 160, 120, 128)\n",
      "[TL] Conv2dLayer cnn3: shape: (5, 5, 128, 256) strides: (1, 2, 2, 1) pad: SAME act: relu\n",
      "[TL] Conv2dLayer cnn31: shape: (3, 3, 256, 256) strides: (1, 1, 1, 1) pad: SAME act: relu\n",
      "(1, 80, 60, 256)\n",
      "[TL] Conv2dLayer cnn4: shape: (3, 3, 256, 512) strides: (1, 2, 2, 1) pad: SAME act: relu\n",
      "[TL] Conv2dLayer cnn41: shape: (3, 3, 512, 512) strides: (1, 1, 1, 1) pad: SAME act: relu\n",
      "(1, 40, 30, 512)\n",
      "[TL] Conv2dLayer cnn5: shape: (3, 3, 512, 512) strides: (1, 2, 2, 1) pad: SAME act: relu\n",
      "[TL] Conv2dLayer cnn51: shape: (3, 3, 512, 512) strides: (1, 1, 1, 1) pad: SAME act: relu\n",
      "(1, 20, 15, 512)\n",
      "[TL] Conv2dLayer cnn6: shape: (3, 3, 512, 1024) strides: (1, 2, 2, 1) pad: SAME act: relu\n",
      "[TL] Conv2dLayer cnn61: shape: (3, 3, 1024, 1024) strides: (1, 1, 1, 1) pad: SAME act: relu\n",
      "(1, 10, 8, 1024)\n",
      "[TL] DeConv2dLayer decnn5: shape: (1, 1, 512, 1024) out_shape: (1, 20, 15, 512) strides: (1, 2, 2, 1) pad: SAME act: relu\n",
      "(1, 20, 15, 512)\n",
      "[TL] InputLayer  Irefinein1: (1, 20, 15, 1024)\n",
      "[TL] Conv2dLayer Iflow5: shape: (5, 5, 1024, 3) strides: (1, 1, 1, 1) pad: SAME act: relu\n",
      "[TL] UpSampling2dLayer Iunsample4: is_scale: True size: (2, 2) method: 0 align_corners: False\n",
      "[TL] DeConv2dLayer decnn4: shape: (1, 1, 256, 1024) out_shape: (1, 40, 30, 256) strides: (1, 2, 2, 1) pad: SAME act: relu\n",
      "[TL] InputLayer  Irefinein2: (1, 40, 30, 771)\n",
      "[TL] Conv2dLayer Iflow4: shape: (5, 5, 771, 3) strides: (1, 1, 1, 1) pad: SAME act: relu\n",
      "[TL] UpSampling2dLayer Iunsample3: is_scale: True size: (2, 2) method: 0 align_corners: False\n",
      "[TL] DeConv2dLayer decnn3: shape: (1, 1, 128, 771) out_shape: (1, 80, 60, 128) strides: (1, 2, 2, 1) pad: SAME act: relu\n",
      "[TL] InputLayer  Irefinein3: (1, 80, 60, 387)\n",
      "[TL] Conv2dLayer Iflow3: shape: (5, 5, 387, 3) strides: (1, 1, 1, 1) pad: SAME act: relu\n",
      "[TL] UpSampling2dLayer Iunsample2: is_scale: True size: (2, 2) method: 0 align_corners: False\n",
      "[TL] DeConv2dLayer decnn2: shape: (1, 1, 64, 387) out_shape: (1, 160, 120, 64) strides: (1, 2, 2, 1) pad: SAME act: relu\n",
      "[TL] InputLayer  Irefinein4: (1, 160, 120, 195)\n",
      "[TL] Conv2dLayer Iflow2: shape: (5, 5, 195, 3) strides: (1, 1, 1, 1) pad: SAME act: relu\n"
     ]
    }
   ],
   "source": [
    "obs_shape = [3,512,480, 640,15] #should be NHWC\n",
    "batch_size = 1\n",
    "image = tf.placeholder(tf.float32, [batch_size,obs_shape[2],obs_shape[3],obs_shape[4]], 'image_ph')\n",
    "\n",
    "#forward layers\n",
    "imagenet = tl.layers.InputLayer(image, name='image_input')\n",
    "imagenet = tl.layers.Conv2dLayer(imagenet, act=tf.nn.relu, shape=(7, 7, obs_shape[4], 64), strides=(1, 2, 2, 1),use_cudnn_on_gpu=True, name='cnn1')\n",
    "imagenet = tl.layers.Conv2dLayer(imagenet, act=tf.nn.relu, shape=(5, 5, 64, 128), strides=(1, 2, 2, 1),use_cudnn_on_gpu=True, name='cnn2')\n",
    "imagenetout2 = imagenet.outputs\n",
    "print(imagenetout2.shape)\n",
    "\n",
    "imagenet = tl.layers.Conv2dLayer(imagenet, act=tf.nn.relu, shape=(5, 5, 128, 256), strides=(1, 2, 2, 1),use_cudnn_on_gpu=True, name='cnn3')\n",
    "imagenet = tl.layers.Conv2dLayer(imagenet, act=tf.nn.relu, shape=(3, 3, 256, 256), strides=(1, 1, 1, 1),use_cudnn_on_gpu=True, name='cnn31')\n",
    "imagenetout3 = imagenet.outputs\n",
    "print(imagenetout3.shape)\n",
    "\n",
    "imagenet = tl.layers.Conv2dLayer(imagenet, act=tf.nn.relu, shape=(3, 3, 256, 512), strides=(1, 2, 2, 1),use_cudnn_on_gpu=True, name='cnn4')\n",
    "imagenet = tl.layers.Conv2dLayer(imagenet, act=tf.nn.relu, shape=(3, 3, 512, 512), strides=(1, 1, 1, 1),use_cudnn_on_gpu=True, name='cnn41')\n",
    "imagenetout4 = imagenet.outputs\n",
    "print(imagenetout4.shape)\n",
    "\n",
    "imagenet = tl.layers.Conv2dLayer(imagenet, act=tf.nn.relu, shape=(3, 3, 512, 512), strides=(1, 2, 2, 1),use_cudnn_on_gpu=True, name='cnn5')\n",
    "imagenet = tl.layers.Conv2dLayer(imagenet, act=tf.nn.relu, shape=(3, 3, 512, 512), strides=(1, 1, 1, 1),use_cudnn_on_gpu=True, name='cnn51')\n",
    "imagenetout5 = imagenet.outputs\n",
    "print(imagenetout5.shape)\n",
    "\n",
    "imagenet = tl.layers.Conv2dLayer(imagenet, act=tf.nn.relu, shape=(3, 3, 512, 1024), strides=(1, 2, 2, 1),use_cudnn_on_gpu=True, name='cnn6')\n",
    "imagenet = tl.layers.Conv2dLayer(imagenet, act=tf.nn.relu, shape=(3, 3, 1024, 1024), strides=(1, 1, 1, 1),use_cudnn_on_gpu=True, name='cnn61')\n",
    "imagenetout6 = imagenet.outputs  #used in training\n",
    "print(imagenetout6.shape)\n",
    "\n",
    "\n",
    "#refine layers\n",
    "imagenet = tl.layers.DeConv2dLayer(imagenet, act=tf.nn.relu,shape=(1, 1, 512, 1024),output_shape=(batch_size, 20, 15, 512), strides=(1, 2, 2, 1), name='decnn5')\n",
    "imagenetoutu5 = imagenet.outputs\n",
    "print(imagenetoutu5.shape)\n",
    "\n",
    "imagenet2 = tl.layers.InputLayer(tf.concat([imagenetoutu5,imagenetout5], axis=3), name='Irefinein1')\n",
    "imagenet3 = tl.layers.Conv2dLayer(imagenet2, act=tf.nn.relu, shape=(5, 5, 1024, 3), strides=(1, 1, 1, 1), use_cudnn_on_gpu=True, name='Iflow5')\n",
    "imagenet3 = tl.layers.UpSampling2dLayer(imagenet3,size=(2,2), method=0, name='Iunsample4')\n",
    "imagenetoutf5u = imagenet3.outputs\n",
    "imagenet4 = tl.layers.DeConv2dLayer(imagenet2, act=tf.nn.relu,shape=(1, 1, 256, 1024),output_shape=(batch_size, 40, 30, 256), strides=(1, 2, 2, 1), name='decnn4')\n",
    "imagenetoutu4 = imagenet4.outputs\n",
    "\n",
    "imagenet5 = tl.layers.InputLayer(tf.concat([imagenetoutu4,imagenetout4,imagenetoutf5u], axis=3), name='Irefinein2')\n",
    "imagenet6 = tl.layers.Conv2dLayer(imagenet5, act=tf.nn.relu, shape=(5, 5, 771, 3), strides=(1, 1, 1, 1), use_cudnn_on_gpu=True, name='Iflow4')\n",
    "imagenet6 = tl.layers.UpSampling2dLayer(imagenet6,size=(2,2), method=0, name='Iunsample3')\n",
    "imagenetoutf4u = imagenet6.outputs\n",
    "imagenet7 = tl.layers.DeConv2dLayer(imagenet5, act=tf.nn.relu,shape=(1, 1, 128, 771),output_shape=(batch_size, 80, 60, 128), strides=(1, 2, 2, 1), name='decnn3')\n",
    "imagenetoutu3 = imagenet7.outputs\n",
    "\n",
    "imagenet8 = tl.layers.InputLayer(tf.concat([imagenetoutu3,imagenetout3,imagenetoutf4u], axis=3), name='Irefinein3')\n",
    "imagenet9 = tl.layers.Conv2dLayer(imagenet8, act=tf.nn.relu, shape=(5, 5, 387, 3), strides=(1, 1, 1, 1), use_cudnn_on_gpu=True, name='Iflow3')\n",
    "imagenet9 = tl.layers.UpSampling2dLayer(imagenet9,size=(2,2), method=0, name='Iunsample2')\n",
    "imagenetoutf3u = imagenet9.outputs\n",
    "imagenet10 = tl.layers.DeConv2dLayer(imagenet8, act=tf.nn.relu,shape=(1, 1, 64, 387),output_shape=(batch_size, 160, 120, 64), strides=(1, 2, 2, 1), name='decnn2')\n",
    "imagenetoutu2 = imagenet10.outputs\n",
    "\n",
    "imagenet11 = tl.layers.InputLayer(tf.concat([imagenetoutu2,imagenetout2,imagenetoutf3u], axis=3), name='Irefinein4')\n",
    "imagenet12 = tl.layers.Conv2dLayer(imagenet11, act=tf.nn.relu, shape=(5, 5, 195, 3), strides=(1, 1, 1, 1), use_cudnn_on_gpu=True, name='Iflow2')\n",
    "imagenetoutf2u = imagenet12.outputs\n"
   ]
  },
  {
   "cell_type": "code",
   "execution_count": 3,
   "metadata": {},
   "outputs": [
    {
     "name": "stdout",
     "output_type": "stream",
     "text": [
      "[TL] InputLayer  image_input: (1, 5, 640, 480, 3)\n",
      "[TL] LambdaLayer  kerasImage\n",
      "WARNING:tensorflow:From /home/jing/anaconda2/lib/python2.7/site-packages/tensorflow/python/ops/resource_variable_ops.py:435: colocate_with (from tensorflow.python.framework.ops) is deprecated and will be removed in a future version.\n",
      "Instructions for updating:\n",
      "Colocations handled automatically by placer.\n",
      "(1, 5, 80, 60, 1)\n"
     ]
    }
   ],
   "source": [
    "\n",
    "obs_shape = [3,512,640, 480,3,5] #should be NHWC\n",
    "batch_size = 1\n",
    "imagetype = 'image'\n",
    "\n",
    "image    = tf.placeholder(tf.float32, [None,obs_shape[5],obs_shape[2],obs_shape[3],obs_shape[4]], 'image_ph')\n",
    "\n",
    "def keras_block(imagenetx):\n",
    "    imagenet = tf.keras.layers.ConvLSTM2D(filters=16,kernel_size=[7,7],strides=[2,2],padding='same',activation=tf.nn.relu,return_sequences=True)(imagenetx)\n",
    "    imagenet = tf.keras.layers.BatchNormalization()(imagenet)\n",
    "    imagenet = tf.keras.layers.ConvLSTM2D(filters=32,kernel_size=[5,5],strides=[2,2],padding='same',activation=tf.nn.relu,return_sequences=True)(imagenet)\n",
    "    imagenet = tf.keras.layers.BatchNormalization()(imagenet)\n",
    "    imagenet = tf.keras.layers.ConvLSTM2D(filters=64,kernel_size=[3,3],strides=[2,2],padding='same',activation=tf.nn.relu,return_sequences=True)(imagenet)\n",
    "    imagenet = tf.keras.layers.BatchNormalization()(imagenet)\n",
    "    imagenet = tf.keras.layers.ConvLSTM2D(filters=64,kernel_size=[3,3],strides=[1,1],padding='same',activation=tf.nn.relu,return_sequences=True)(imagenet)\n",
    "    imagenet = tf.keras.layers.BatchNormalization()(imagenet)\n",
    "    imagenet = tf.keras.layers.Conv3D(filters=1, kernel_size=(3, 3, 3),activation=tf.nn.relu,padding='same')(imagenet)\n",
    "    return imagenet\n",
    "\n",
    "imagenet = tl.layers.InputLayer(image, name='image_input')\n",
    "imagenet = tl.layers.LambdaLayer(imagenet, fn=keras_block, name='kerasImage')\n",
    "print(imagenet.outputs.shape)\n",
    "\n",
    "\n"
   ]
  },
  {
   "cell_type": "code",
   "execution_count": null,
   "metadata": {},
   "outputs": [],
   "source": [
    "imagenet = tf.compat.v2.keras.layers.ConvLSTM2D(filters=64,kernel_size=[5,5],strides=[2,2,1],padding='same',activation=tf.nn.relu,return_sequences=True)(imagenet)\n",
    "    imagenet = tf.keras.layers.BatchNormalization()(imagenet)\n",
    "    imagenet = tf.compat.v2.keras.layers.ConvLSTM2D(filters=64,kernel_size=[5,5],strides=[2,2,1],padding='same',activation=tf.nn.relu,return_sequences=True)(imagenet)\n",
    "    imagenet = tf.keras.layers.BatchNormalization()(imagenet)\n",
    "    imagenet = tf.compat.v2.keras.layers.ConvLSTM2D(filters=64,kernel_size=[5,5],strides=[2,2,1],padding='same',activation=tf.nn.relu,return_sequences=True)(imagenet)\n",
    "    imagenet = tf.keras.layers.BatchNormalization()(imagenet)\n",
    "    imagenet = tf.keras.layers.Conv3D(filters=1, kernel_size=(3, 3, 3),activation='sigmoid',padding='same')(imagenet)"
   ]
  },
  {
   "cell_type": "code",
   "execution_count": null,
   "metadata": {},
   "outputs": [],
   "source": []
  },
  {
   "cell_type": "code",
   "execution_count": 5,
   "metadata": {},
   "outputs": [
    {
     "name": "stdout",
     "output_type": "stream",
     "text": [
      "[TL] InputLayer  scan_input: (?, 512, 3)\n",
      "[TL] MeanPool1d min_pooling1: filter_size: 3 strides: 2 padding: valid\n",
      "WARNING:tensorflow:From /home/jing/anaconda2/lib/python2.7/site-packages/tensorlayer/layers/pooling.py:158: average_pooling1d (from tensorflow.python.layers.pooling) is deprecated and will be removed in a future version.\n",
      "Instructions for updating:\n",
      "Use keras.layers.average_pooling1d instead.\n",
      "(?, 255, 3)\n",
      "[TL] MeanPool1d min_pooling2: filter_size: 3 strides: 2 padding: valid\n",
      "(?, 127, 3)\n",
      "[TL] MeanPool1d min_pooling3: filter_size: 3 strides: 2 padding: valid\n",
      "(?, 63, 3)\n",
      "[TL] Conv1dLayer cnn1: shape: [5, 3, 8] stride: 2 pad: SAME act: relu\n",
      "(?, 32, 8)\n",
      "[TL] Conv1dLayer cnn2: shape: [3, 8, 16] stride: 2 pad: SAME act: relu\n",
      "(?, 16, 16)\n",
      "[TL] FlattenLayer fl: 256\n",
      "(?, 256)\n",
      "[TL] DenseLayer  cnn_output: 128 relu\n"
     ]
    },
    {
     "ename": "NameError",
     "evalue": "name 'image_output' is not defined",
     "output_type": "error",
     "traceback": [
      "\u001b[0;31m\u001b[0m",
      "\u001b[0;31mNameError\u001b[0mTraceback (most recent call last)",
      "\u001b[0;32m<ipython-input-5-1ad4e07dbfdc>\u001b[0m in \u001b[0;36m<module>\u001b[0;34m()\u001b[0m\n\u001b[1;32m     21\u001b[0m \u001b[0;34m\u001b[0m\u001b[0m\n\u001b[1;32m     22\u001b[0m \u001b[0;34m\u001b[0m\u001b[0m\n\u001b[0;32m---> 23\u001b[0;31m \u001b[0mact_net\u001b[0m \u001b[0;34m=\u001b[0m \u001b[0mtl\u001b[0m\u001b[0;34m.\u001b[0m\u001b[0mlayers\u001b[0m\u001b[0;34m.\u001b[0m\u001b[0mInputLayer\u001b[0m\u001b[0;34m(\u001b[0m\u001b[0mtf\u001b[0m\u001b[0;34m.\u001b[0m\u001b[0mconcat\u001b[0m\u001b[0;34m(\u001b[0m\u001b[0;34m[\u001b[0m\u001b[0mgoal\u001b[0m\u001b[0;34m,\u001b[0m \u001b[0mvel\u001b[0m\u001b[0;34m,\u001b[0m \u001b[0mscan_output\u001b[0m\u001b[0;34m,\u001b[0m \u001b[0mimage_output\u001b[0m\u001b[0;34m]\u001b[0m\u001b[0;34m,\u001b[0m \u001b[0maxis\u001b[0m\u001b[0;34m=\u001b[0m\u001b[0;36m1\u001b[0m\u001b[0;34m)\u001b[0m\u001b[0;34m,\u001b[0m \u001b[0mname\u001b[0m\u001b[0;34m=\u001b[0m\u001b[0;34m'goal_input'\u001b[0m\u001b[0;34m)\u001b[0m\u001b[0;34m\u001b[0m\u001b[0m\n\u001b[0m\u001b[1;32m     24\u001b[0m \u001b[0mact_net\u001b[0m \u001b[0;34m=\u001b[0m \u001b[0mtl\u001b[0m\u001b[0;34m.\u001b[0m\u001b[0mlayers\u001b[0m\u001b[0;34m.\u001b[0m\u001b[0mDenseLayer\u001b[0m\u001b[0;34m(\u001b[0m\u001b[0mact_net\u001b[0m\u001b[0;34m,\u001b[0m \u001b[0mn_units\u001b[0m\u001b[0;34m=\u001b[0m\u001b[0;36m64\u001b[0m\u001b[0;34m,\u001b[0m \u001b[0mact\u001b[0m\u001b[0;34m=\u001b[0m\u001b[0mtf\u001b[0m\u001b[0;34m.\u001b[0m\u001b[0mnn\u001b[0m\u001b[0;34m.\u001b[0m\u001b[0mtanh\u001b[0m\u001b[0;34m,\u001b[0m \u001b[0mname\u001b[0m\u001b[0;34m=\u001b[0m\u001b[0;34m'act1'\u001b[0m\u001b[0;34m)\u001b[0m\u001b[0;34m\u001b[0m\u001b[0m\n\u001b[1;32m     25\u001b[0m \u001b[0mact_net\u001b[0m \u001b[0;34m=\u001b[0m \u001b[0mtl\u001b[0m\u001b[0;34m.\u001b[0m\u001b[0mlayers\u001b[0m\u001b[0;34m.\u001b[0m\u001b[0mDenseLayer\u001b[0m\u001b[0;34m(\u001b[0m\u001b[0mact_net\u001b[0m\u001b[0;34m,\u001b[0m \u001b[0mn_units\u001b[0m\u001b[0;34m=\u001b[0m\u001b[0;36m64\u001b[0m\u001b[0;34m,\u001b[0m \u001b[0mact\u001b[0m\u001b[0;34m=\u001b[0m\u001b[0mtf\u001b[0m\u001b[0;34m.\u001b[0m\u001b[0mnn\u001b[0m\u001b[0;34m.\u001b[0m\u001b[0mtanh\u001b[0m\u001b[0;34m,\u001b[0m \u001b[0mname\u001b[0m\u001b[0;34m=\u001b[0m\u001b[0;34m'act2'\u001b[0m\u001b[0;34m)\u001b[0m\u001b[0;34m\u001b[0m\u001b[0m\n",
      "\u001b[0;31mNameError\u001b[0m: name 'image_output' is not defined"
     ]
    }
   ],
   "source": [
    "obs_shape = [3,512,640, 480,15]\n",
    "scan = tf.placeholder(tf.float32, [None, obs_shape[1], obs_shape[0]],'scan_ph')\n",
    "goal = tf.placeholder(tf.float32, [None, 2], 'goal_ph')\n",
    "vel  = tf.placeholder(tf.float32, [None, 2], 'vel_ph')\n",
    "\n",
    "scannet = tl.layers.InputLayer(scan, name='scan_input')\n",
    "scannet = tl.layers.MeanPool1d(scannet, filter_size=3, strides=2, name='min_pooling1')\n",
    "print(scannet.outputs.shape)\n",
    "scannet = tl.layers.MeanPool1d(scannet, filter_size=3, strides=2, name='min_pooling2')\n",
    "print(scannet.outputs.shape)\n",
    "scannet = tl.layers.MeanPool1d(scannet, filter_size=3, strides=2, name='min_pooling3')\n",
    "print(scannet.outputs.shape)\n",
    "scannet = tl.layers.Conv1dLayer(scannet, act=tf.nn.relu, shape=[5, obs_shape[0], 8], stride=2,name='cnn1')\n",
    "print(scannet.outputs.shape)\n",
    "scannet = tl.layers.Conv1dLayer(scannet, act=tf.nn.relu, shape=[3, 8, 16], stride=2,name='cnn2')\n",
    "print(scannet.outputs.shape)\n",
    "scannet = tl.layers.FlattenLayer(scannet, name='fl')\n",
    "print(scannet.outputs.shape)\n",
    "scannet = tl.layers.DenseLayer(scannet, n_units=128, act=tf.nn.relu, name='cnn_output')\n",
    "scan_output = scannet.outputs\n",
    "\n",
    "\n",
    "act_net = tl.layers.InputLayer(tf.concat([goal, vel, scan_output, image_output], axis=1), name='goal_input')\n",
    "act_net = tl.layers.DenseLayer(act_net, n_units=64, act=tf.nn.tanh, name='act1')\n",
    "act_net = tl.layers.DenseLayer(act_net, n_units=64, act=tf.nn.tanh, name='act2')\n",
    "\n",
    "linear = tl.layers.DenseLayer(act_net, n_units=1, act=tf.nn.sigmoid, name='linear')\n",
    "angular = tl.layers.DenseLayer(act_net, n_units=1, act=tf.nn.tanh, name='angular')\n"
   ]
  },
  {
   "cell_type": "code",
   "execution_count": null,
   "metadata": {},
   "outputs": [],
   "source": []
  }
 ],
 "metadata": {
  "kernelspec": {
   "display_name": "Python 2",
   "language": "python",
   "name": "python2"
  },
  "language_info": {
   "codemirror_mode": {
    "name": "ipython",
    "version": 2
   },
   "file_extension": ".py",
   "mimetype": "text/x-python",
   "name": "python",
   "nbconvert_exporter": "python",
   "pygments_lexer": "ipython2",
   "version": "2.7.16"
  }
 },
 "nbformat": 4,
 "nbformat_minor": 2
}
