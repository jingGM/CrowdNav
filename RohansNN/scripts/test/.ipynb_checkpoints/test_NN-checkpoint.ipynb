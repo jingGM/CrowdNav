{
 "cells": [
  {
   "cell_type": "code",
   "execution_count": 2,
   "metadata": {},
   "outputs": [
    {
     "name": "stderr",
     "output_type": "stream",
     "text": [
      "/home/jing/anaconda2/lib/python2.7/site-packages/dask/config.py:168: YAMLLoadWarning: calling yaml.load() without Loader=... is deprecated, as the default Loader is unsafe. Please read https://msg.pyyaml.org/load for full details.\n",
      "  data = yaml.load(f.read()) or {}\n"
     ]
    }
   ],
   "source": [
    "import tensorflow as tf\n",
    "import tensorlayer as tl\n",
    "import numpy as np\n",
    "import pylab as plt"
   ]
  },
  {
   "cell_type": "code",
   "execution_count": 2,
   "metadata": {},
   "outputs": [],
   "source": [
    "graph = tf.get_default_graph()\n",
    "config = tf.ConfigProto()\n",
    "session = tf.Session(graph=graph, config=config)\n",
    "tf.enable_eager_execution()"
   ]
  },
  {
   "cell_type": "code",
   "execution_count": 7,
   "metadata": {},
   "outputs": [
    {
     "name": "stdout",
     "output_type": "stream",
     "text": [
      "[TL] InputLayer  image_input: (?, 5, 160, 120, 3)\n",
      "[TL] LambdaLayer  kerasImage\n",
      "(?, 1, 160, 120, 1)\n"
     ]
    }
   ],
   "source": [
    "obs_shape = [3,160, 120,3] #should be NHWC\n",
    "\n",
    "image = tf.placeholder(tf.float32, [None,obs_shape[0],obs_shape[1],obs_shape[2],obs_shape[3]], 'image_ph')\n",
    "\n",
    "def keras_block(imagenetx):\n",
    "    imagenet = tf.keras.layers.ConvLSTM2D(filters=16,kernel_size=[5,5],strides=[1,1],padding='same',activation=tf.nn.relu,return_sequences=True)(imagenetx)\n",
    "    imagenet = tf.keras.layers.BatchNormalization()(imagenet)\n",
    "    imagenet = tf.keras.layers.ConvLSTM2D(filters=32,kernel_size=[5,5],strides=[1,1],padding='same',activation=tf.nn.relu,return_sequences=True)(imagenet)\n",
    "    imagenet = tf.keras.layers.BatchNormalization()(imagenet)\n",
    "    imagenet = tf.keras.layers.ConvLSTM2D(filters=64,kernel_size=[3,3],strides=[1,1],padding='same',activation=tf.nn.relu,return_sequences=True)(imagenet)\n",
    "    imagenet = tf.keras.layers.BatchNormalization()(imagenet)\n",
    "    imagenet = tf.keras.layers.ConvLSTM2D(filters=64,kernel_size=[3,3],strides=[1,1],padding='same',activation=tf.nn.relu,return_sequences=True)(imagenet)\n",
    "    imagenet = tf.keras.layers.BatchNormalization()(imagenet)\n",
    "    imagenet = tf.keras.layers.Conv3D(filters=1, kernel_size=(5, 3, 3),strides=(1,1,1),activation=tf.nn.relu,padding='same')(imagenet)\n",
    "    imagenet = tf.keras.layers.Conv3D(filters=1, kernel_size=(3, 3, 3),strides=(1,1,1),activation=tf.nn.relu,padding='same')(imagenet)\n",
    "    return imagenet\n",
    "\n",
    "imagenet = tl.layers.InputLayer(image, name='image_input')\n",
    "imagenet = tl.layers.LambdaLayer(imagenet, fn=keras_block, name='kerasImage')\n",
    "#imagenet = tl.layers.FlattenLayer(imagenet, name='imagefl')\n",
    "#imagenet = tl.layers.DenseLayer(imagenet, n_units=960, act=tf.nn.relu, name='image_output')\n",
    "image_output = imagenet.outputs\n",
    "print(image_output.shape)"
   ]
  },
  {
   "cell_type": "code",
   "execution_count": 3,
   "metadata": {},
   "outputs": [],
   "source": [
    "def generate_movies(n_samples=1000, n_frames=7):\n",
    "    row = 120\n",
    "    col = 160\n",
    "    noisy_movies   = np.zeros((n_samples, n_frames, row, col, 1),dtype=np.float)\n",
    "    shifted_movies = np.zeros((n_samples, n_frames, row, col, 1),dtype=np.float)\n",
    "\n",
    "    for i in range(n_samples):\n",
    "        # Add 3 to 7 moving squares\n",
    "        n = np.random.randint(3, 8)\n",
    "\n",
    "        for j in range(n):\n",
    "            # Initial position\n",
    "            xstart = np.random.randint(0, 160)\n",
    "            ystart = np.random.randint(0, 120)\n",
    "            # Direction of motion\n",
    "            directionx = np.random.randint(0, 20) - 1\n",
    "            directiony = np.random.randint(10, 20) - 1\n",
    "\n",
    "            # Size of the square\n",
    "            w = np.random.randint(2, 10)\n",
    "\n",
    "            for t in range(n_frames):\n",
    "                x_shift = xstart + directionx * t\n",
    "                y_shift = ystart + directiony * t\n",
    "                noisy_movies[i, t, x_shift - w: x_shift + w,\n",
    "                             y_shift - w: y_shift + w, 0] += 1\n",
    "\n",
    "                # Make it more robust by adding noise.\n",
    "                # The idea is that if during inference,\n",
    "                # the value of the pixel is not exactly one,\n",
    "                # we need to train the network to be robust and still\n",
    "                # consider it as a pixel belonging to a square.\n",
    "                if np.random.randint(0, 2):\n",
    "                    noise_f = (-1)**np.random.randint(0, 2)\n",
    "                    noisy_movies[i, t,\n",
    "                                 x_shift - w - 1: x_shift + w + 1,\n",
    "                                 y_shift - w - 1: y_shift + w + 1,\n",
    "                                 0] += noise_f * 0.1\n",
    "\n",
    "                # Shift the ground truth by 1\n",
    "                x_shift = xstart + directionx * (t + 1)\n",
    "                y_shift = ystart + directiony * (t + 1)\n",
    "                shifted_movies[i, t, x_shift - w: x_shift + w,\n",
    "                               y_shift - w: y_shift + w, 0] += 1\n",
    "\n",
    "    # Cut to a 40x40 window\n",
    "    noisy_movies = noisy_movies[::, ::, 0:120, 0:160, ::]\n",
    "    shifted_movies = shifted_movies[::, ::, 0:120, 0:160, ::]\n",
    "    noisy_movies[noisy_movies >= 1] = 1\n",
    "    shifted_movies[shifted_movies >= 1] = 1\n",
    "    return noisy_movies, shifted_movies\n",
    "\n",
    "noisy_movies, shifted_movies = generate_movies(n_samples=1000)"
   ]
  },
  {
   "cell_type": "code",
   "execution_count": 4,
   "metadata": {},
   "outputs": [
    {
     "data": {
      "text/plain": [
       "<matplotlib.image.AxesImage at 0x7f7ced0fdc50>"
      ]
     },
     "execution_count": 4,
     "metadata": {},
     "output_type": "execute_result"
    },
    {
     "data": {
      "image/png": "[encoded data removed]",
      "text/plain": [
       "<Figure size 432x288 with 1 Axes>"
      ]
     },
     "metadata": {
      "needs_background": "light"
     },
     "output_type": "display_data"
    }
   ],
   "source": [
    "noisy_movies.shape\n",
    "toplot = noisy_movies[0][0, ::, ::, 0]\n",
    "toplot.shape\n",
    "plt.imshow(toplot)"
   ]
  },
  {
   "cell_type": "code",
   "execution_count": null,
   "metadata": {},
   "outputs": [],
   "source": []
  }
 ],
 "metadata": {
  "kernelspec": {
   "display_name": "Python 2",
   "language": "python",
   "name": "python2"
  },
  "language_info": {
   "codemirror_mode": {
    "name": "ipython",
    "version": 2
   },
   "file_extension": ".py",
   "mimetype": "text/x-python",
   "name": "python",
   "nbconvert_exporter": "python",
   "pygments_lexer": "ipython2",
   "version": "2.7.16"
  }
 },
 "nbformat": 4,
 "nbformat_minor": 2
}
