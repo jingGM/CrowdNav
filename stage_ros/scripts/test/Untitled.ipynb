{
 "cells": [
  {
   "cell_type": "code",
   "execution_count": 13,
   "metadata": {},
   "outputs": [
    {
     "name": "stdout",
     "output_type": "stream",
     "text": [
      "[12, 2, 3]\n",
      "[12, 2, 3]\n"
     ]
    }
   ],
   "source": [
    "b = [1,2,3]\n",
    "\n",
    "def change(a):\n",
    "    a[0]=12\n",
    "def changeb(a):\n",
    "    a = [0,0]\n",
    "\n",
    "change(b)\n",
    "print(b)\n",
    "changeb(b)\n",
    "print(b)\n"
   ]
  },
  {
   "cell_type": "code",
   "execution_count": 9,
   "metadata": {},
   "outputs": [
    {
     "name": "stdout",
     "output_type": "stream",
     "text": [
      "[12, 12, 12, 12, 12, 12, 12, 12, 12, 12]\n",
      "1\n"
     ]
    }
   ],
   "source": [
    "class A(object):\n",
    "    def __init__(self,k=1):\n",
    "        self.a = [12]*10\n",
    "        self.b = 12\n",
    "        self.c = {\"a1\":12,\"a2\":23}\n",
    "        k = 0\n",
    "\n",
    "class B(object):\n",
    "    def __init__(self,A):\n",
    "        A.a[0] = 0\n",
    "        A.b = 0\n",
    "        A.c[\"a1\"] = 0\n",
    "    def change(self,A):\n",
    "        A.b = 0\n",
    "        A.c[\"a1\"] = 0\n",
    "        A.a = [0,0,0]\n",
    "        \n",
    "re = 1\n",
    "cla = A(re)\n",
    "print(cla.a)\n",
    "print(re)\n"
   ]
  },
  {
   "cell_type": "code",
   "execution_count": 11,
   "metadata": {},
   "outputs": [
    {
     "name": "stdout",
     "output_type": "stream",
     "text": [
      "[0, 12, 12, 12, 12, 12, 12, 12, 12, 12]\n",
      "0\n",
      "{'a1': 0, 'a2': 23}\n",
      "[0, 0, 0]\n"
     ]
    }
   ],
   "source": [
    "clb = B(cla)\n",
    "print(cla.a)\n",
    "print(cla.b)\n",
    "print(cla.c)\n",
    "\n",
    "clb.change(cla)\n",
    "print(cla.a)"
   ]
  },
  {
   "cell_type": "code",
   "execution_count": 14,
   "metadata": {},
   "outputs": [
    {
     "data": {
      "text/plain": [
       "[[1, 1], [1, 1], [1, 1]]"
      ]
     },
     "execution_count": 14,
     "metadata": {},
     "output_type": "execute_result"
    }
   ],
   "source": [
    "a = [[1]*2]*3\n",
    "a"
   ]
  },
  {
   "cell_type": "code",
   "execution_count": 15,
   "metadata": {},
   "outputs": [
    {
     "data": {
      "text/plain": [
       "3"
      ]
     },
     "execution_count": 15,
     "metadata": {},
     "output_type": "execute_result"
    }
   ],
   "source": [
    "len(a)"
   ]
  },
  {
   "cell_type": "code",
   "execution_count": 1,
   "metadata": {},
   "outputs": [
    {
     "ename": "ImportError",
     "evalue": "No module named geometry_msgs.msg",
     "output_type": "error",
     "traceback": [
      "\u001b[0;31m\u001b[0m",
      "\u001b[0;31mImportError\u001b[0mTraceback (most recent call last)",
      "\u001b[0;32m<ipython-input-1-96d232cde579>\u001b[0m in \u001b[0;36m<module>\u001b[0;34m()\u001b[0m\n\u001b[0;32m----> 1\u001b[0;31m \u001b[0;32mfrom\u001b[0m \u001b[0mgeometry_msgs\u001b[0m\u001b[0;34m.\u001b[0m\u001b[0mmsg\u001b[0m \u001b[0;32mimport\u001b[0m \u001b[0mPoint\u001b[0m\u001b[0;34m\u001b[0m\u001b[0m\n\u001b[0m",
      "\u001b[0;31mImportError\u001b[0m: No module named geometry_msgs.msg"
     ]
    }
   ],
   "source": [
    "from geometry_msgs.msg import Point\n"
   ]
  },
  {
   "cell_type": "code",
   "execution_count": 8,
   "metadata": {},
   "outputs": [
    {
     "name": "stdout",
     "output_type": "stream",
     "text": [
      "0\n",
      "1\n",
      "2\n",
      "0\n",
      "1\n",
      "2\n",
      "0\n",
      "1\n",
      "2\n",
      "0\n",
      "1\n",
      "2\n",
      "0\n",
      "1\n",
      "2\n"
     ]
    }
   ],
   "source": [
    "actions = [[1]*3,[2]*3,[3]*3,[4]*3,[5]*3]\n",
    "\n",
    "for i in range(5):\n",
    "    #print(len(actions[i]))\n",
    "    for j in range(len(actions[i])):\n",
    "        print(j)"
   ]
  },
  {
   "cell_type": "code",
   "execution_count": 3,
   "metadata": {},
   "outputs": [],
   "source": [
    "class Eve(object):\n",
    "    def __init__(self):\n",
    "        #self.a = [ [list(),list(),list()] ]*5\n",
    "        self.a = []\n",
    "        for i in range(5):\n",
    "            self.a.append([list(),list(),list()])\n",
    "        #self.a = [ list() ]*5"
   ]
  },
  {
   "cell_type": "code",
   "execution_count": 4,
   "metadata": {},
   "outputs": [
    {
     "data": {
      "text/plain": [
       "[[[], [], []], [[], [], []], [[], [], []], [[], [], []], [[], [], []]]"
      ]
     },
     "execution_count": 4,
     "metadata": {},
     "output_type": "execute_result"
    }
   ],
   "source": [
    "ev = Eve()\n",
    "ev.a"
   ]
  },
  {
   "cell_type": "code",
   "execution_count": 5,
   "metadata": {},
   "outputs": [
    {
     "data": {
      "text/plain": [
       "[[[], [], []], [[], [12], []], [[11], [], []], [[], [], []], [[], [], []]]"
      ]
     },
     "execution_count": 5,
     "metadata": {},
     "output_type": "execute_result"
    }
   ],
   "source": [
    "ev.a[1][1]=[12]\n",
    "ev.a[2][0]=[11]\n",
    "ev.a\n",
    "#len(ev.a)"
   ]
  },
  {
   "cell_type": "code",
   "execution_count": 6,
   "metadata": {},
   "outputs": [
    {
     "data": {
      "text/plain": [
       "[[[], [], []], [[12], [11], []], [[11], [], []], [[], [], []], [[], [], []]]"
      ]
     },
     "execution_count": 6,
     "metadata": {},
     "output_type": "execute_result"
    }
   ],
   "source": [
    "ev.a[1][0]=ev.a[1][1]\n",
    "ev.a[1][1]=ev.a[2][0]\n",
    "ev.a"
   ]
  },
  {
   "cell_type": "code",
   "execution_count": 2,
   "metadata": {},
   "outputs": [
    {
     "data": {
      "text/plain": [
       "[1, 2, 3, 4]"
      ]
     },
     "execution_count": 2,
     "metadata": {},
     "output_type": "execute_result"
    }
   ],
   "source": [
    "a=[1,2,3]+[4]\n",
    "a"
   ]
  },
  {
   "cell_type": "code",
   "execution_count": 7,
   "metadata": {},
   "outputs": [],
   "source": [
    "ev1 = Eve()"
   ]
  },
  {
   "cell_type": "code",
   "execution_count": 8,
   "metadata": {},
   "outputs": [
    {
     "data": {
      "text/plain": [
       "[[[], [], []], [[], [], []], [[], [], []], [[], [], []], [[], [], []]]"
      ]
     },
     "execution_count": 8,
     "metadata": {},
     "output_type": "execute_result"
    }
   ],
   "source": [
    "ev1.a"
   ]
  },
  {
   "cell_type": "code",
   "execution_count": null,
   "metadata": {},
   "outputs": [],
   "source": []
  }
 ],
 "metadata": {
  "kernelspec": {
   "display_name": "Python 2",
   "language": "python",
   "name": "python2"
  },
  "language_info": {
   "codemirror_mode": {
    "name": "ipython",
    "version": 2
   },
   "file_extension": ".py",
   "mimetype": "text/x-python",
   "name": "python",
   "nbconvert_exporter": "python",
   "pygments_lexer": "ipython2",
   "version": "2.7.16"
  }
 },
 "nbformat": 4,
 "nbformat_minor": 2
}
