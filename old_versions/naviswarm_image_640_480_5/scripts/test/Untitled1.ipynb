{
 "cells": [
  {
   "cell_type": "code",
   "execution_count": 6,
   "metadata": {},
   "outputs": [],
   "source": [
    "import tensorflow as tf\n",
    "import tensorlayer as tl\n",
    "import numpy as np\n",
    "import pylab as plt"
   ]
  },
  {
   "cell_type": "code",
   "execution_count": 7,
   "metadata": {},
   "outputs": [],
   "source": [
    "graph = tf.get_default_graph()\n",
    "config = tf.ConfigProto()\n",
    "session = tf.Session(graph=graph, config=config)"
   ]
  },
  {
   "cell_type": "code",
   "execution_count": 8,
   "metadata": {},
   "outputs": [
    {
     "name": "stdout",
     "output_type": "stream",
     "text": [
      "[TL] InputLayer  image_input: (?, 5, 640, 480, 3)\n",
      "[TL] LambdaLayer  kerasImage\n",
      "WARNING:tensorflow:From /home/jing/anaconda2/lib/python2.7/site-packages/tensorflow/python/ops/resource_variable_ops.py:435: colocate_with (from tensorflow.python.framework.ops) is deprecated and will be removed in a future version.\n",
      "Instructions for updating:\n",
      "Colocations handled automatically by placer.\n",
      "(?, 1, 40, 30, 1)\n"
     ]
    }
   ],
   "source": [
    "obs_shape = [3,512,640, 480,3,5] #should be NHWC\n",
    "imagetype = 'image'\n",
    "\n",
    "image = tf.placeholder(tf.float32, [None,obs_shape[5],obs_shape[2],obs_shape[3],obs_shape[4]], 'image_ph')\n",
    "\n",
    "def keras_block(imagenetx):\n",
    "    imagenet = tf.keras.layers.ConvLSTM2D(filters=16,kernel_size=[7,7],strides=[2,2],padding='same',\n",
    "                                          activation=tf.nn.relu,return_sequences=True)(imagenetx)\n",
    "    imagenet = tf.keras.layers.BatchNormalization()(imagenet)\n",
    "    imagenet = tf.keras.layers.ConvLSTM2D(filters=32,kernel_size=[5,5],strides=[2,2],padding='same',\n",
    "                                          activation=tf.nn.relu,return_sequences=True)(imagenet)\n",
    "    imagenet = tf.keras.layers.BatchNormalization()(imagenet)\n",
    "    imagenet = tf.keras.layers.ConvLSTM2D(filters=64,kernel_size=[3,3],strides=[2,2],padding='same',\n",
    "                                          activation=tf.nn.relu,return_sequences=True)(imagenet)\n",
    "    imagenet = tf.keras.layers.BatchNormalization()(imagenet)\n",
    "    imagenet = tf.keras.layers.ConvLSTM2D(filters=64,kernel_size=[3,3],strides=[1,1],padding='same',\n",
    "                                          activation=tf.nn.relu,return_sequences=True)(imagenet)\n",
    "    imagenet = tf.keras.layers.BatchNormalization()(imagenet)\n",
    "    imagenet = tf.keras.layers.Conv3D(filters=1, kernel_size=(5, 3, 3),strides=(2,2,2),\n",
    "                                      activation=tf.nn.relu,padding='same')(imagenet)\n",
    "    imagenet = tf.keras.layers.Conv3D(filters=1, kernel_size=(3, 3, 3),strides=(3,1,1),\n",
    "                                      activation=tf.nn.relu,padding='same')(imagenet)\n",
    "    return imagenet\n",
    "\n",
    "imagenet = tl.layers.InputLayer(image, name='image_input')\n",
    "imagenet = tl.layers.LambdaLayer(imagenet, fn=keras_block, name='kerasImage')\n",
    "print(imagenet.outputs.shape)"
   ]
  },
  {
   "cell_type": "code",
   "execution_count": null,
   "metadata": {},
   "outputs": [],
   "source": []
  }
 ],
 "metadata": {
  "kernelspec": {
   "display_name": "Python 2",
   "language": "python",
   "name": "python2"
  },
  "language_info": {
   "codemirror_mode": {
    "name": "ipython",
    "version": 2
   },
   "file_extension": ".py",
   "mimetype": "text/x-python",
   "name": "python",
   "nbconvert_exporter": "python",
   "pygments_lexer": "ipython2",
   "version": "2.7.16"
  }
 },
 "nbformat": 4,
 "nbformat_minor": 2
}
